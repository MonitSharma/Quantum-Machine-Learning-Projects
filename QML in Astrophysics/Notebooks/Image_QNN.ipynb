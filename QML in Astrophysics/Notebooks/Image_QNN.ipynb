{
 "cells": [
  {
   "cell_type": "code",
   "execution_count": 1,
   "metadata": {},
   "outputs": [],
   "source": [
    "import random\n",
    "import numpy as np\n",
    "import matplotlib.pyplot as plt\n",
    "\n",
    "import sys\n",
    "sys.path.append('../Pyfiles')\n",
    "# Pull in the helper files.\n",
    "from ImageRead import *\n",
    "from QNN import *\n"
   ]
  },
  {
   "cell_type": "code",
   "execution_count": 2,
   "metadata": {},
   "outputs": [],
   "source": [
    "target_o = [1 for i in range(25)]+[0 for i in range(25)]"
   ]
  },
  {
   "cell_type": "code",
   "execution_count": 3,
   "metadata": {},
   "outputs": [],
   "source": [
    "pathY=r'../dataset/Original/galaxy/'\n",
    "pathN=r'../dataset/Original/No-galaxy/'\n",
    "nameN=''\n",
    "nameY=''\n",
    "# a1 = imageResize(callImage(5,pathY,nameY),16)\n",
    "# a2 = imageResize(callImage(29,pathY,nameY),16)\n",
    "# # plt.imshow(a1,cmap='gray')\n",
    "# plt.imshow(a2,cmap='gray')\n",
    "# plt.imshow(b1,cmap='gray')\n",
    "# plt.imshow(b2,cmap='gray')\n",
    "inputY=[imageResize(callImage(i+1,pathY,nameY),16) for i in range(25)]\n",
    "inputN=[imageResize(callImage(i+1,pathN,nameN),16) for i in range(25)]\n",
    "input_combine = inputY+inputN"
   ]
  },
  {
   "cell_type": "code",
   "execution_count": 4,
   "metadata": {},
   "outputs": [],
   "source": [
    "np.random.seed(0)\n",
    "idx=np.array([int(i) for i in range(50)]).flatten()\n",
    "\n",
    "np.random.shuffle(idx)\n",
    "\n",
    "dataInput = list(input_combine[i] for i in idx )\n",
    "dataTarget = list( imageBinarize(input_combine[i]) for i in idx )\n",
    "\n",
    "data_target_o=list( target_o[i] for i in idx )"
   ]
  },
  {
   "cell_type": "code",
   "execution_count": 5,
   "metadata": {},
   "outputs": [
    {
     "data": {
      "image/png": "[encoded data removed]",
      "text/plain": [
       "<Figure size 1440x432 with 20 Axes>"
      ]
     },
     "metadata": {},
     "output_type": "display_data"
    }
   ],
   "source": [
    "n_samples_show = 10\n",
    "fig, axes = plt.subplots(nrows=2, ncols=n_samples_show, figsize=(20, 6))\n",
    "\n",
    "for i in range(n_samples_show):\n",
    "\n",
    "    axes[0,i].imshow(dataInput[i], cmap='gray')\n",
    "    axes[0,i].set_xticks([])\n",
    "    axes[0,i].set_yticks([])\n",
    "    axes[1,i].imshow(dataInput[i+5], cmap='gray')\n",
    "    axes[1,i].set_xticks([])\n",
    "    axes[1,i].set_yticks([])    \n"
   ]
  },
  {
   "cell_type": "code",
   "execution_count": 6,
   "metadata": {},
   "outputs": [],
   "source": [
    "from qiskit.circuit.parameter import Parameter\n",
    "from qiskit_machine_learning.neural_networks import CircuitQNN\n",
    "from qiskit_machine_learning.connectors import TorchConnector\n",
    "from qiskit.utils import QuantumInstance\n",
    "from torch.nn import Linear, CrossEntropyLoss, MSELoss\n",
    "from torch.optim import LBFGS, SGD,Adam \n",
    "qi = QuantumInstance(Aer.get_backend('statevector_simulator'))\n",
    "from qiskit.circuit.library import RealAmplitudes, ZZFeatureMap\n",
    "from qiskit_machine_learning.algorithms.classifiers import NeuralNetworkClassifier, VQC\n",
    "from qiskit.algorithms.optimizers import COBYLA, L_BFGS_B\n",
    "\n",
    "# Model for LBFGS\n",
    "# Combining the circuit together with CircuitQNN\n",
    "np.random.seed(3)\n",
    "\n",
    "\n",
    "nqubits=6\n",
    "num_inputs=256\n",
    "qc = QuantumCircuit(nqubits)\n",
    "\n",
    "# Encoding\n",
    "param_x=[];\n",
    "for i in range(num_inputs):\n",
    "    param_x.append(Parameter('x'+str(i)))\n",
    "for i in range(8):\n",
    "    param_x.append(np.pi/2)\n",
    "\n",
    "\n",
    "feature_map = encoding(qc,param_x,22)\n",
    "\n",
    "\n",
    "# Optimzing circuit PQC\n",
    "param_y=[];\n",
    "for i in range(nqubits*2):\n",
    "    param_y.append(Parameter('θ'+str(i)))\n",
    "\n",
    "ansatz=circuit15(qc,param_y)\n",
    "\n",
    "qc.append(feature_map, range(nqubits))\n",
    "qc.append(ansatz, range(nqubits))\n",
    "\n",
    "qnn2 = CircuitQNN(qc, input_params=feature_map.parameters, weight_params=ansatz.parameters, \n",
    "                  interpret=parity, output_shape=2, quantum_instance=qi)\n",
    "initial_weights = 0.1*(2*np.random.rand(qnn2.num_weights) - 1)\n"
   ]
  },
  {
   "cell_type": "markdown",
   "metadata": {},
   "source": [
    "# Learning Rate 0.05"
   ]
  },
  {
   "cell_type": "code",
   "execution_count": 7,
   "metadata": {},
   "outputs": [],
   "source": [
    "# define optimizer and loss function\n",
    "\n",
    "model2 = TorchConnector(qnn2, initial_weights)\n",
    "\n",
    "optimizer = LBFGS(model2.parameters(),lr=0.05)\n",
    "f_loss = CrossEntropyLoss()\n",
    "\n",
    "X= [normlaizeData(dataInput[i].flatten()) for i in range(50)]\n",
    "y01= [data_target_o[i] for i in range(50)]"
   ]
  },
  {
   "cell_type": "code",
   "execution_count": 8,
   "metadata": {},
   "outputs": [
    {
     "name": "stdout",
     "output_type": "stream",
     "text": [
      "Accuracy: 0.46\n"
     ]
    }
   ],
   "source": [
    "from torch import Tensor\n",
    "# traning model accuracy\n",
    "y_predict = []\n",
    "for x in X:\n",
    "    output = model2(Tensor(x))\n",
    "    y_predict += [np.argmax(output.detach().numpy())]\n",
    "\n",
    "print('Accuracy:', sum(y_predict == np.array(y01))/len(np.array(y01)))"
   ]
  },
  {
   "cell_type": "code",
   "execution_count": 9,
   "metadata": {},
   "outputs": [],
   "source": [
    "# define optimizer and loss function\n",
    "\n",
    "model2 = TorchConnector(qnn2, initial_weights)\n",
    "\n",
    "optimizer = LBFGS(model2.parameters(),lr=0.05)\n",
    "f_loss = CrossEntropyLoss()\n",
    "\n",
    "X= [normlaizeData(dataInput[i].flatten()) for i in range(50)]\n",
    "y01= [data_target_o[i] for i in range(50)]"
   ]
  },
  {
   "cell_type": "code",
   "execution_count": 10,
   "metadata": {},
   "outputs": [
    {
     "name": "stdout",
     "output_type": "stream",
     "text": [
      "33.18708801269531\n",
      "33.108192443847656\n",
      "32.4072380065918\n",
      "32.03237533569336\n",
      "31.895145416259766\n",
      "31.78937530517578\n",
      "31.689733505249023\n",
      "31.59193229675293\n",
      "31.493995666503906\n",
      "31.396451950073242\n",
      "31.304031372070312\n",
      "31.22391700744629\n",
      "31.15971565246582\n",
      "31.109495162963867\n",
      "31.069421768188477\n",
      "31.036239624023438\n",
      "31.007585525512695\n",
      "30.98176383972168\n",
      "30.957427978515625\n",
      "30.93332862854004\n",
      "30.908166885375977\n",
      "30.88027572631836\n",
      "30.84713363647461\n",
      "30.804162979125977\n",
      "30.741378784179688\n",
      "30.637073516845703\n",
      "30.515186309814453\n",
      "30.469327926635742\n",
      "30.444242477416992\n",
      "30.421152114868164\n",
      "30.39798355102539\n",
      "30.37508773803711\n",
      "30.352642059326172\n",
      "30.330595016479492\n",
      "30.308734893798828\n",
      "30.286935806274414\n",
      "30.26512908935547\n",
      "30.24332046508789\n",
      "30.221588134765625\n",
      "30.200000762939453\n"
     ]
    },
    {
     "data": {
      "text/plain": [
       "tensor(30.9082, grad_fn=<AddBackward0>)"
      ]
     },
     "execution_count": 10,
     "metadata": {},
     "output_type": "execute_result"
    }
   ],
   "source": [
    "from torch import Tensor\n",
    "# start training\n",
    "\n",
    "model2.train()    # set model to training mode\n",
    "\n",
    "# define objective function\n",
    "def closure():\n",
    "    optimizer.zero_grad()                                  # initialize gradient\n",
    "    loss = 0.0                                             # initialize loss    \n",
    "    for x, y_target in zip(X, y01):                        # evaluate batch loss\n",
    "        output = model2(Tensor(x)).reshape(1, 2)           # forward pass\n",
    "        loss += f_loss(output, Tensor([y_target]).long())\n",
    "    loss.backward()                                        # backward pass\n",
    "    print(loss.item())                                     # print loss\n",
    "    return loss\n",
    "\n",
    "# run optimizer\n",
    "optimizer.step(closure)\n",
    "optimizer.step(closure)"
   ]
  },
  {
   "cell_type": "code",
   "execution_count": 11,
   "metadata": {},
   "outputs": [
    {
     "name": "stdout",
     "output_type": "stream",
     "text": [
      "Accuracy: 0.92\n"
     ]
    }
   ],
   "source": [
    "# traning model accuracy\n",
    "y_predict = []\n",
    "for x in X:\n",
    "    output = model2(Tensor(x))\n",
    "    y_predict += [np.argmax(output.detach().numpy())]\n",
    "\n",
    "print('Accuracy:', sum(y_predict == np.array(y01))/len(np.array(y01)))"
   ]
  },
  {
   "cell_type": "markdown",
   "metadata": {},
   "source": [
    "# Learning rate 0.06"
   ]
  },
  {
   "cell_type": "code",
   "execution_count": 12,
   "metadata": {},
   "outputs": [
    {
     "name": "stdout",
     "output_type": "stream",
     "text": [
      "Accuracy: 0.46\n"
     ]
    }
   ],
   "source": [
    "# define optimizer and loss function\n",
    "from torch import Tensor\n",
    "model2 = TorchConnector(qnn2, initial_weights)\n",
    "\n",
    "optimizer = LBFGS(model2.parameters(),lr=0.06)\n",
    "f_loss = CrossEntropyLoss()\n",
    "\n",
    "X= [normlaizeData(dataInput[i].flatten()) for i in range(50)]\n",
    "y01= [data_target_o[i] for i in range(50)]\n",
    "\n",
    "y_predict = []\n",
    "for x in X:\n",
    "    output = model2(Tensor(x))\n",
    "    y_predict += [np.argmax(output.detach().numpy())]\n",
    "\n",
    "print('Accuracy:', sum(y_predict == np.array(y01))/len(np.array(y01)))"
   ]
  },
  {
   "cell_type": "code",
   "execution_count": 13,
   "metadata": {},
   "outputs": [
    {
     "name": "stdout",
     "output_type": "stream",
     "text": [
      "33.18708801269531\n",
      "33.092506408691406\n",
      "32.27847671508789\n",
      "31.932584762573242\n",
      "31.801755905151367\n",
      "31.696422576904297\n",
      "31.596323013305664\n",
      "31.49781036376953\n",
      "31.399715423583984\n",
      "31.304540634155273\n",
      "31.219013214111328\n",
      "31.14921760559082\n",
      "31.095157623291016\n",
      "31.052919387817383\n",
      "31.01851463317871\n",
      "30.989017486572266\n",
      "30.96230697631836\n",
      "30.936681747436523\n",
      "30.910457611083984\n",
      "30.88165283203125\n",
      "30.847291946411133\n",
      "30.801864624023438\n",
      "30.7325382232666\n",
      "30.610553741455078\n",
      "30.497982025146484\n",
      "30.462387084960938\n",
      "30.439420700073242\n",
      "30.41527557373047\n",
      "30.38955307006836\n",
      "30.363304138183594\n",
      "30.336950302124023\n",
      "30.31045150756836\n",
      "30.28369903564453\n",
      "30.256694793701172\n",
      "30.22960662841797\n",
      "30.202392578125\n",
      "30.172588348388672\n",
      "30.144634246826172\n",
      "30.120256423950195\n",
      "30.096738815307617\n"
     ]
    },
    {
     "data": {
      "text/plain": [
       "tensor(30.8473, grad_fn=<AddBackward0>)"
      ]
     },
     "execution_count": 13,
     "metadata": {},
     "output_type": "execute_result"
    }
   ],
   "source": [
    "from torch import Tensor\n",
    "# start training\n",
    "\n",
    "model2.train()    # set model to training mode\n",
    "\n",
    "# define objective function\n",
    "def closure():\n",
    "    optimizer.zero_grad()                                  # initialize gradient\n",
    "    loss = 0.0                                             # initialize loss    \n",
    "    for x, y_target in zip(X, y01):                        # evaluate batch loss\n",
    "        output = model2(Tensor(x)).reshape(1, 2)           # forward pass\n",
    "        loss += f_loss(output, Tensor([y_target]).long())\n",
    "    loss.backward()                                        # backward pass\n",
    "    print(loss.item())                                     # print loss\n",
    "    return loss\n",
    "\n",
    "# run optimizer\n",
    "optimizer.step(closure)\n",
    "optimizer.step(closure)"
   ]
  },
  {
   "cell_type": "code",
   "execution_count": 14,
   "metadata": {},
   "outputs": [
    {
     "name": "stdout",
     "output_type": "stream",
     "text": [
      "Accuracy: 0.92\n"
     ]
    }
   ],
   "source": [
    "# traning model accuracy\n",
    "y_predict = []\n",
    "for x in X:\n",
    "    output = model2(Tensor(x))\n",
    "    y_predict += [np.argmax(output.detach().numpy())]\n",
    "\n",
    "print('Accuracy:', sum(y_predict == np.array(y01))/len(np.array(y01)))"
   ]
  },
  {
   "cell_type": "markdown",
   "metadata": {},
   "source": [
    "# Learning Rate 0.07"
   ]
  },
  {
   "cell_type": "code",
   "execution_count": 15,
   "metadata": {},
   "outputs": [
    {
     "name": "stdout",
     "output_type": "stream",
     "text": [
      "Accuracy: 0.46\n"
     ]
    }
   ],
   "source": [
    "# define optimizer and loss function\n",
    "from torch import Tensor\n",
    "model2 = TorchConnector(qnn2, initial_weights)\n",
    "\n",
    "optimizer = LBFGS(model2.parameters(),lr=0.07)\n",
    "f_loss = CrossEntropyLoss()\n",
    "\n",
    "X= [normlaizeData(dataInput[i].flatten()) for i in range(50)]\n",
    "y01= [data_target_o[i] for i in range(50)]\n",
    "\n",
    "y_predict = []\n",
    "for x in X:\n",
    "    output = model2(Tensor(x))\n",
    "    y_predict += [np.argmax(output.detach().numpy())]\n",
    "\n",
    "print('Accuracy:', sum(y_predict == np.array(y01))/len(np.array(y01)))"
   ]
  },
  {
   "cell_type": "code",
   "execution_count": 16,
   "metadata": {},
   "outputs": [
    {
     "name": "stdout",
     "output_type": "stream",
     "text": [
      "33.18708801269531\n",
      "33.07685089111328\n",
      "32.15932846069336\n",
      "31.843116760253906\n",
      "31.71990394592285\n",
      "31.616920471191406\n",
      "31.518083572387695\n",
      "31.42047691345215\n",
      "31.324111938476562\n",
      "31.233501434326172\n",
      "31.156253814697266\n",
      "31.095962524414062\n",
      "31.04983901977539\n",
      "31.013206481933594\n",
      "30.98231315612793\n",
      "30.954456329345703\n",
      "30.927480697631836\n",
      "30.899188995361328\n",
      "30.866764068603516\n",
      "30.82535743713379\n",
      "30.764251708984375\n",
      "30.654775619506836\n",
      "30.505294799804688\n",
      "30.467437744140625\n",
      "30.445926666259766\n",
      "30.420310974121094\n",
      "30.390424728393555\n",
      "30.358802795410156\n",
      "30.326568603515625\n",
      "30.2938232421875\n",
      "30.260597229003906\n",
      "30.227100372314453\n",
      "30.19232749938965\n",
      "30.15595245361328\n",
      "30.12395477294922\n",
      "30.094696044921875\n",
      "30.066675186157227\n",
      "30.039791107177734\n",
      "30.01435661315918\n",
      "29.9906005859375\n"
     ]
    },
    {
     "data": {
      "text/plain": [
       "tensor(30.7643, grad_fn=<AddBackward0>)"
      ]
     },
     "execution_count": 16,
     "metadata": {},
     "output_type": "execute_result"
    }
   ],
   "source": [
    "from torch import Tensor\n",
    "# start training\n",
    "\n",
    "model2.train()    # set model to training mode\n",
    "\n",
    "# define objective function\n",
    "def closure():\n",
    "    optimizer.zero_grad()                                  # initialize gradient\n",
    "    loss = 0.0                                             # initialize loss    \n",
    "    for x, y_target in zip(X, y01):                        # evaluate batch loss\n",
    "        output = model2(Tensor(x)).reshape(1, 2)           # forward pass\n",
    "        loss += f_loss(output, Tensor([y_target]).long())\n",
    "    loss.backward()                                        # backward pass\n",
    "    print(loss.item())                                     # print loss\n",
    "    return loss\n",
    "\n",
    "# run optimizer\n",
    "optimizer.step(closure)\n",
    "optimizer.step(closure)"
   ]
  },
  {
   "cell_type": "code",
   "execution_count": 17,
   "metadata": {},
   "outputs": [
    {
     "name": "stdout",
     "output_type": "stream",
     "text": [
      "Accuracy: 0.92\n"
     ]
    }
   ],
   "source": [
    "# traning model accuracy\n",
    "y_predict = []\n",
    "for x in X:\n",
    "    output = model2(Tensor(x))\n",
    "    y_predict += [np.argmax(output.detach().numpy())]\n",
    "\n",
    "print('Accuracy:', sum(y_predict == np.array(y01))/len(np.array(y01)))"
   ]
  },
  {
   "cell_type": "markdown",
   "metadata": {},
   "source": [
    "# TestModel2"
   ]
  },
  {
   "cell_type": "code",
   "execution_count": 18,
   "metadata": {},
   "outputs": [
    {
     "name": "stdout",
     "output_type": "stream",
     "text": [
      "Accuracy25data: 0.84\n",
      "Accuracy50data: 0.78\n"
     ]
    }
   ],
   "source": [
    "target_o = [1 for i in range(25)]+[0 for i in range(25)]\n",
    "\n",
    "pathY=r'../dataset/Original/galaxy1/'\n",
    "pathN=r'../dataset/Original/no-galaxy1/'\n",
    "nameN=''\n",
    "nameY=''\n",
    "inputY=[imageResize(callImage(i+1,pathY,nameY),16) for i in range(25)]\n",
    "inputN=[imageResize(callImage(i+1,pathN,nameN),16) for i in range(25)]\n",
    "input_combine = inputY+inputN\n",
    "\n",
    "np.random.seed(0)\n",
    "idx=np.array([int(i) for i in range(50)]).flatten()\n",
    "\n",
    "np.random.shuffle(idx)\n",
    "\n",
    "dataInput = list(input_combine[i] for i in idx )\n",
    "dataTarget = list( imageBinarize(input_combine[i]) for i in idx )\n",
    "\n",
    "data_target_o=list( target_o[i] for i in idx )\n",
    "\n",
    "Xtest= [normlaizeData(dataInput[i].flatten()) for i in range(25)]\n",
    "y01test= [data_target_o[i] for i in range(25)]\n",
    "\n",
    "Xtest1= [normlaizeData(dataInput[i].flatten()) for i in range(50)]\n",
    "y01test1= [data_target_o[i] for i in range(50)]\n",
    "\n",
    "y_predict = []\n",
    "for x in Xtest:\n",
    "    output = model2(Tensor(x))\n",
    "    y_predict += [np.argmax(output.detach().numpy())]\n",
    "\n",
    "print('Accuracy25data:', sum(y_predict == np.array(y01test))/len(np.array(y01test)))\n",
    "\n",
    "y_predict1 = []\n",
    "for x in Xtest1:\n",
    "    output = model2(Tensor(x))\n",
    "    y_predict1 += [np.argmax(output.detach().numpy())]\n",
    "\n",
    "print('Accuracy50data:', sum(y_predict1 == np.array(y01test1))/len(np.array(y01test1)))"
   ]
  }
 ],
 "metadata": {
  "interpreter": {
   "hash": "3bc52ef4732c2c89ac1c67f1a564bc39cd50f6fed15c43a2bb566bf993475a13"
  },
  "kernelspec": {
   "display_name": "Python 3.8.9 ('qc': venv)",
   "language": "python",
   "name": "python3"
  },
  "language_info": {
   "codemirror_mode": {
    "name": "ipython",
    "version": 3
   },
   "file_extension": ".py",
   "mimetype": "text/x-python",
   "name": "python",
   "nbconvert_exporter": "python",
   "pygments_lexer": "ipython3",
   "version": "3.8.9"
  }
 },
 "nbformat": 4,
 "nbformat_minor": 2
}
