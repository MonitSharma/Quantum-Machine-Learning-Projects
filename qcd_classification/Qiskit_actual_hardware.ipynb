{
  "cells": [
    {
      "cell_type": "code",
      "execution_count": null,
      "metadata": {
        "id": "3X5xR-256nTk"
      },
      "outputs": [],
      "source": [
        "import numpy as np\n"
      ]
    },
    {
      "cell_type": "code",
      "execution_count": null,
      "metadata": {
        "id": "fiNSvHmo6u6y"
      },
      "outputs": [],
      "source": [
        "import pennylane as qml\n"
      ]
    },
    {
      "cell_type": "code",
      "execution_count": null,
      "metadata": {
        "id": "1XxTBI6V7F_7"
      },
      "outputs": [],
      "source": [
        "n_samples = 10\n",
        "n_qubits = n_samples  # number of samples tested\n",
        "\n",
        "#dev_rigetti_aws = qml.device('braket.aws.qubit', device_arn=device_rigetti, shots=10000, wires=n_qubits, s3_destination_folder=s3_folder)\n",
        "#dev_rigetti_aws = qml.device(\"default.qubit\", wires=n_qubits, shots=10000)\n",
        "dev_rigetti_aws = qml.device('qiskit.aer', wires=n_qubits)\n",
        "wires = dev_rigetti_aws.wires.tolist()\n",
        "\n",
        "@qml.qnode(dev_rigetti_aws)\n",
        "def q_fc(params, inputs):\n",
        "    \"\"\"A variational quantum circuit representing the DRC.\n",
        "\n",
        "    Args:\n",
        "        params (array[float]): array of parameters\n",
        "        inputs (array[float]): array of inputs (data samples)\n",
        "\n",
        "    Returns:\n",
        "        array[float]: 1-d output vector in the form of <Z> for every qubit\n",
        "    \"\"\"\n",
        "    \n",
        "    #print(len(inputs))\n",
        "    #print(len(params[0]))\n",
        "    #print(int(len(inputs[0])/3))\n",
        "    # data sample iteration\n",
        "    for data in range(len(inputs)):\n",
        "        # layer iteration\n",
        "        for l in range(len(params[0])):\n",
        "            # qubit iteration\n",
        "            for q in range(1):\n",
        "                # gate iteration\n",
        "                for g in range(int(len(inputs[0])/3)):\n",
        "                  qml.Rot(*(params[0][l][3*g:3*(g+1)] * inputs[data][3*g:3*(g+1)] + params[1][l][3*g:3*(g+1)]), wires=data)\n",
        "\n",
        "    return [qml.expval(qml.PauliZ(wires=i)) for i in range(n_qubits)]"
      ]
    },
    {
      "cell_type": "code",
      "execution_count": null,
      "metadata": {
        "colab": {
          "base_uri": "https://localhost:8080/"
        },
        "id": "qOz9lLLQ7bdI",
        "outputId": "7e9c6edc-d6fd-43ec-fa05-d66561280d7d"
      },
      "outputs": [
        {
          "name": "stdout",
          "output_type": "stream",
          "text": [
            "(5000, 85) (5000,)\n",
            "(5000, 85) (5000,)\n"
          ]
        }
      ],
      "source": [
        "num_sample = 5000\n",
        "\n",
        "X_train = np.loadtxt('X_train_' + str(num_sample) + '.txt')\n",
        "Y_train = np.loadtxt('Y_train_' + str(num_sample) + '.txt')\n",
        "\n",
        "X_test = np.loadtxt('X_test_' + str(num_sample) + '.txt')\n",
        "Y_test = np.loadtxt('Y_test_' + str(num_sample) + '.txt')\n",
        "\n",
        "# Sanity Check\n",
        "print(X_train.shape, Y_train.shape)\n",
        "print(X_test.shape, Y_test.shape)"
      ]
    },
    {
      "cell_type": "code",
      "execution_count": null,
      "metadata": {
        "id": "kCoQGJoN8os6"
      },
      "outputs": [],
      "source": [
        "important_features = [\n",
        "    \n",
        "    'eos_type',\n",
        "\t'v2',\n",
        "\t'v3',\n",
        "\t'v4',\n",
        " 'v5',\n",
        " 'psi2',\n",
        " 'psi3'\n",
        "\t   \n",
        "]\n",
        "\n",
        "# Best features according to reference\n",
        "\n",
        "\n",
        "# The index of the best features in the header_list\n",
        "important_features_id = np.array([\n",
        "                         0,\n",
        "                         2,\n",
        "                         3,\n",
        "                         4,\n",
        "                         5,\n",
        "                         6,\n",
        "                         7\n",
        "                         \n",
        "])"
      ]
    },
    {
      "cell_type": "code",
      "execution_count": null,
      "metadata": {
        "colab": {
          "base_uri": "https://localhost:8080/"
        },
        "id": "7MB7wnS88jnZ",
        "outputId": "c8cc2b77-764a-479a-f4ef-c741669b4d65"
      },
      "outputs": [
        {
          "data": {
            "text/plain": [
              "((5000, 6), (5000, 6))"
            ]
          },
          "execution_count": 9,
          "metadata": {},
          "output_type": "execute_result"
        }
      ],
      "source": [
        "\n",
        "X_train = X_train[:, important_features_id[:6]]\n",
        "X_test = X_test[:, important_features_id[:6]]\n",
        "\n",
        "X_train.shape, X_test.shape"
      ]
    },
    {
      "cell_type": "code",
      "execution_count": null,
      "metadata": {
        "id": "mrWqnQ6K8I0T"
      },
      "outputs": [],
      "source": [
        "best_params = np.array([[[-8.1651270e-01, -5.7219396e+00, -5.0026126e+00, -8.7349653e+00,\n",
        "          8.6107445e+00, -7.4346608e-01],\n",
        "        [-4.3116546e-01,  1.9235638e-01,  1.1460174e+01,  1.6732130e+01,\n",
        "         -7.6773262e+00,  2.3683351e-01],\n",
        "        [-1.2424114e+00, -1.6424029e+00,  4.3668928e+00,  1.2578176e+01,\n",
        "          1.3795346e+01,  4.1559759e-01],\n",
        "        [ 1.5771559e+00, -2.9976025e-01,  4.8244944e+00,  1.2191445e+01,\n",
        "         -1.2368810e+01,  2.3165625e-01],\n",
        "        [-4.7297475e-01,  1.0174850e-01,  1.1752117e+00,  4.5879779e+00,\n",
        "         -4.9621615e+00, -4.0477452e-01],\n",
        "        [ 7.0455074e-01,  4.7375542e-01,  4.6240917e-01,  6.2393603e+00,\n",
        "         -8.0264759e+00, -8.2564849e-01 ]],\n",
        " \n",
        "        [[ -1.6269213e-01,  4.1776904e-01, -1.1912645e-01, -1.4228214e+00,\n",
        "          1.2047335e-01,  2.8740829e-01],\n",
        "        [ 6.2306011e-01,  1.2985326e+00,  1.0940484e-03,  7.7353078e-01,\n",
        "          7.6046184e-02,  3.1073821e-01],\n",
        "        [-7.7920145e-01, -8.7578541e-01, -5.1616389e-01, -9.5997304e-01,\n",
        "         -1.0806603e+00, -8.3950925e-01],\n",
        "        [ 8.6785805e-01,  1.0877717e+00,  9.0811890e-01,  5.0817257e-01,\n",
        "          1.1726918e+00,  4.3069747e-01],\n",
        "        [ 7.0361930e-01,  3.2143527e-01, -7.2015360e-02, -3.6329076e-01,\n",
        "          2.7806100e-02,  1.8179013e+00],\n",
        "        [ 1.1288029e+00,  2.6218903e-01,  6.7197585e-01,  5.4800685e-02,\n",
        "         -3.0021885e-01, -5.6975257e-01 ]]])\n",
        "\n",
        "alpha = np.array([0.9943338, 1.0097762])"
      ]
    },
    {
      "cell_type": "code",
      "execution_count": null,
      "metadata": {
        "id": "Uo-qVj_w7Z8S"
      },
      "outputs": [],
      "source": [
        "# execute the circuit on Rigetti's QPU\n",
        "# we saved the result for every execution just in case\n",
        "# Note: please change the directory to save the result accordingly (or just delete/comment it) if you want to run the code\n",
        "\n",
        "for i in range(100):\n",
        "    result_0 = q_fc(best_params, X_test[Y_test==0][i*10:(i+1)*10])\n",
        "    np.savetxt('Testing_label0_sample' + str(i) + '.txt', result_0)\n",
        "    result_1 = q_fc(best_params, X_test[Y_test==1][i*10:(i+1)*10])\n",
        "    np.savetxt('Testing_label1_sample' + str(i) + '.txt', result_1)"
      ]
    },
    {
      "cell_type": "code",
      "execution_count": null,
      "metadata": {
        "id": "19lzlrGp7k_i"
      },
      "outputs": [],
      "source": [
        "z_label_0 = np.zeros((1000,))\n",
        "z_label_1 = np.zeros((1000,))\n",
        "\n",
        "# load the results from saved files\n",
        "for i in range(100):\n",
        "    temp = np.loadtxt('Testing_label0_sample' + str(i) + '.txt')\n",
        "    z_label_0[i*10:(i+1)*10] = temp\n",
        "    \n",
        "    temp = np.loadtxt('Testing_label1_sample' + str(i) + '.txt')\n",
        "    z_label_1[i*10:(i+1)*10] = temp\n",
        "\n",
        "# calculate the α1⟨O1⟩\n",
        "fidel_1_label_0 = np.clip(alpha[1]*(1 - z_label_0)/2, 0, 1)\n",
        "fidel_1_label_1 = np.clip(alpha[1]*(1 - z_label_1)/2, 0, 1)\n",
        "\n",
        "# concatenate all into one array of prediction\n",
        "Y_pred_1 = np.concatenate((fidel_1_label_0, fidel_1_label_1), axis=0)\n",
        "Y_label = np.concatenate((np.zeros((1000,), dtype=int), np.ones((1000,), dtype=int)), axis=0)"
      ]
    },
    {
      "cell_type": "code",
      "execution_count": null,
      "metadata": {
        "id": "zcD1-hdQ9C7K"
      },
      "outputs": [],
      "source": [
        "from sklearn.metrics import roc_auc_score"
      ]
    },
    {
      "cell_type": "code",
      "execution_count": null,
      "metadata": {
        "colab": {
          "base_uri": "https://localhost:8080/"
        },
        "id": "2J5XeTMA7_8S",
        "outputId": "ab6b2e18-9e35-40c1-fe08-837dcf2347f4"
      },
      "outputs": [
        {
          "data": {
            "text/plain": [
              "0.7829044999999999"
            ]
          },
          "execution_count": 15,
          "metadata": {},
          "output_type": "execute_result"
        }
      ],
      "source": [
        "roc_auc_score(Y_label, Y_pred_1)"
      ]
    },
    {
      "cell_type": "code",
      "execution_count": null,
      "metadata": {
        "id": "1VVGCC2m9RSZ"
      },
      "outputs": [],
      "source": [
        "## New \n",
        "n_samples = 10\n",
        "n_qubits = n_samples  # number of samples tested\n",
        "\n",
        "#dev_rigetti_aws = qml.device('braket.aws.qubit', device_arn=device_rigetti, shots=10000, wires=n_qubits, s3_destination_folder=s3_folder)\n",
        "#dev_rigetti_aws = qml.device(\"default.qubit\", wires=n_qubits, shots=10000)\n",
        "dev_rigetti_aws = qml.device('qiskit.basicaer', wires=n_qubits)\n",
        "wires = dev_rigetti_aws.wires.tolist()\n",
        "\n",
        "@qml.qnode(dev_rigetti_aws)\n",
        "def q_fc(params, inputs):\n",
        "    \"\"\"A variational quantum circuit representing the DRC.\n",
        "\n",
        "    Args:\n",
        "        params (array[float]): array of parameters\n",
        "        inputs (array[float]): array of inputs (data samples)\n",
        "\n",
        "    Returns:\n",
        "        array[float]: 1-d output vector in the form of <Z> for every qubit\n",
        "    \"\"\"\n",
        "    \n",
        "    #print(len(inputs))\n",
        "    #print(len(params[0]))\n",
        "    #print(int(len(inputs[0])/3))\n",
        "    # data sample iteration\n",
        "    for data in range(len(inputs)):\n",
        "        # layer iteration\n",
        "        for l in range(len(params[0])):\n",
        "            # qubit iteration\n",
        "            for q in range(1):\n",
        "                # gate iteration\n",
        "                for g in range(int(len(inputs[0])/3)):\n",
        "                  qml.Rot(*(params[0][l][3*g:3*(g+1)] * inputs[data][3*g:3*(g+1)] + params[1][l][3*g:3*(g+1)]), wires=data)\n",
        "\n",
        "    return [qml.expval(qml.PauliZ(wires=i)) for i in range(n_qubits)]"
      ]
    },
    {
      "cell_type": "code",
      "execution_count": null,
      "metadata": {
        "id": "6-2WmVOQ9snB"
      },
      "outputs": [],
      "source": [
        "# execute the circuit on Rigetti's QPU\n",
        "# we saved the result for every execution just in case\n",
        "# Note: please change the directory to save the result accordingly (or just delete/comment it) if you want to run the code\n",
        "\n",
        "for i in range(100):\n",
        "    result_0 = q_fc(best_params, X_test[Y_test==0][i*10:(i+1)*10])\n",
        "    np.savetxt('Testing_label0_sample' + str(i) + '.txt', result_0)\n",
        "    result_1 = q_fc(best_params, X_test[Y_test==1][i*10:(i+1)*10])\n",
        "    np.savetxt('Testing_label1_sample' + str(i) + '.txt', result_1)"
      ]
    },
    {
      "cell_type": "code",
      "execution_count": null,
      "metadata": {
        "id": "QbmbBj0h9w5G"
      },
      "outputs": [],
      "source": [
        "z_label_0 = np.zeros((1000,))\n",
        "z_label_1 = np.zeros((1000,))\n",
        "\n",
        "# load the results from saved files\n",
        "for i in range(100):\n",
        "    temp = np.loadtxt('Testing_label0_sample' + str(i) + '.txt')\n",
        "    z_label_0[i*10:(i+1)*10] = temp\n",
        "    \n",
        "    temp = np.loadtxt('Testing_label1_sample' + str(i) + '.txt')\n",
        "    z_label_1[i*10:(i+1)*10] = temp\n",
        "\n",
        "# calculate the α1⟨O1⟩\n",
        "fidel_1_label_0 = np.clip(alpha[1]*(1 - z_label_0)/2, 0, 1)\n",
        "fidel_1_label_1 = np.clip(alpha[1]*(1 - z_label_1)/2, 0, 1)\n",
        "\n",
        "# concatenate all into one array of prediction\n",
        "Y_pred_1 = np.concatenate((fidel_1_label_0, fidel_1_label_1), axis=0)\n",
        "Y_label = np.concatenate((np.zeros((1000,), dtype=int), np.ones((1000,), dtype=int)), axis=0)"
      ]
    },
    {
      "cell_type": "code",
      "execution_count": null,
      "metadata": {
        "colab": {
          "base_uri": "https://localhost:8080/"
        },
        "id": "R_O5MvIl9yog",
        "outputId": "4d3aff11-778d-4741-9622-54142c72a7a3"
      },
      "outputs": [
        {
          "data": {
            "text/plain": [
              "0.780503"
            ]
          },
          "execution_count": 19,
          "metadata": {},
          "output_type": "execute_result"
        }
      ],
      "source": [
        "roc_auc_score(Y_label, Y_pred_1)"
      ]
    },
    {
      "cell_type": "code",
      "execution_count": null,
      "metadata": {
        "id": "hII722EM90tA"
      },
      "outputs": [],
      "source": [
        "## another one\n",
        "## New \n",
        "n_samples = 10\n",
        "n_qubits = n_samples  # number of samples tested\n",
        "\n",
        "#dev_rigetti_aws = qml.device('braket.aws.qubit', device_arn=device_rigetti, shots=10000, wires=n_qubits, s3_destination_folder=s3_folder)\n",
        "#dev_rigetti_aws = qml.device(\"default.qubit\", wires=n_qubits, shots=10000)\n",
        "dev_rigetti_aws =  qml.device('qiskit.ibmq', wires=n_qubits, backend='ibmq_qasm_simulator', ibmqx_token=\"6834a85b6eef4500c39371983dc17feec0ec055e763d50ad7156d5b291d05e8a56cc6c2e09e5ef2e7608c58a04a700addcd6a1fe9c9d3dbcea7783a7222fdc38\")\n",
        "\n",
        "wires = dev_rigetti_aws.wires.tolist()\n",
        "\n",
        "@qml.qnode(dev_rigetti_aws)\n",
        "def q_fc(params, inputs):\n",
        "    \"\"\"A variational quantum circuit representing the DRC.\n",
        "\n",
        "    Args:\n",
        "        params (array[float]): array of parameters\n",
        "        inputs (array[float]): array of inputs (data samples)\n",
        "\n",
        "    Returns:\n",
        "        array[float]: 1-d output vector in the form of <Z> for every qubit\n",
        "    \"\"\"\n",
        "    \n",
        "    #print(len(inputs))\n",
        "    #print(len(params[0]))\n",
        "    #print(int(len(inputs[0])/3))\n",
        "    # data sample iteration\n",
        "    for data in range(len(inputs)):\n",
        "        # layer iteration\n",
        "        for l in range(len(params[0])):\n",
        "            # qubit iteration\n",
        "            for q in range(1):\n",
        "                # gate iteration\n",
        "                for g in range(int(len(inputs[0])/3)):\n",
        "                  qml.Rot(*(params[0][l][3*g:3*(g+1)] * inputs[data][3*g:3*(g+1)] + params[1][l][3*g:3*(g+1)]), wires=data)\n",
        "\n",
        "    return [qml.expval(qml.PauliZ(wires=i)) for i in range(n_qubits)]"
      ]
    },
    {
      "cell_type": "code",
      "execution_count": null,
      "metadata": {
        "colab": {
          "background_save": true
        },
        "id": "919A-2xM-T3c"
      },
      "outputs": [],
      "source": [
        "# execute the circuit on IBM's QPU\n",
        "# we saved the result for every execution just in case\n",
        "# Note: please change the directory to save the result accordingly (or just delete/comment it) if you want to run the code\n",
        "\n",
        "for i in range(100):\n",
        "    result_0 = q_fc(best_params, X_test[Y_test==0][i*10:(i+1)*10])\n",
        "    np.savetxt('Testing_label0_sample' + str(i) + '.txt', result_0)\n",
        "    result_1 = q_fc(best_params, X_test[Y_test==1][i*10:(i+1)*10])\n",
        "    np.savetxt('Testing_label1_sample' + str(i) + '.txt', result_1)"
      ]
    },
    {
      "cell_type": "code",
      "execution_count": null,
      "metadata": {
        "colab": {
          "background_save": true
        },
        "id": "Y7UErib3-YqO"
      },
      "outputs": [],
      "source": [
        "z_label_0 = np.zeros((1000,))\n",
        "z_label_1 = np.zeros((1000,))\n",
        "\n",
        "# load the results from saved files\n",
        "for i in range(100):\n",
        "    temp = np.loadtxt('Testing_label0_sample' + str(i) + '.txt')\n",
        "    z_label_0[i*10:(i+1)*10] = temp\n",
        "    \n",
        "    temp = np.loadtxt('Testing_label1_sample' + str(i) + '.txt')\n",
        "    z_label_1[i*10:(i+1)*10] = temp\n",
        "\n",
        "# calculate the α1⟨O1⟩\n",
        "fidel_1_label_0 = np.clip(alpha[1]*(1 - z_label_0)/2, 0, 1)\n",
        "fidel_1_label_1 = np.clip(alpha[1]*(1 - z_label_1)/2, 0, 1)\n",
        "\n",
        "# concatenate all into one array of prediction\n",
        "Y_pred_1 = np.concatenate((fidel_1_label_0, fidel_1_label_1), axis=0)\n",
        "Y_label = np.concatenate((np.zeros((1000,), dtype=int), np.ones((1000,), dtype=int)), axis=0)"
      ]
    },
    {
      "cell_type": "code",
      "execution_count": null,
      "metadata": {
        "colab": {
          "background_save": true
        },
        "id": "qzJnlI35-atU",
        "outputId": "cf5eb9ef-950f-42cb-8296-206a251e552d"
      },
      "outputs": [
        {
          "data": {
            "text/plain": [
              "0.7801585"
            ]
          },
          "execution_count": null,
          "metadata": {},
          "output_type": "execute_result"
        }
      ],
      "source": [
        "roc_auc_score(Y_label, Y_pred_1)"
      ]
    },
    {
      "cell_type": "code",
      "execution_count": null,
      "metadata": {
        "id": "CuzHNF0F-dWJ"
      },
      "outputs": [],
      "source": [
        "## another simulator"
      ]
    },
    {
      "cell_type": "code",
      "execution_count": null,
      "metadata": {
        "id": "CiMDaN59-fx2"
      },
      "outputs": [],
      "source": [
        "## another one\n",
        "## New \n",
        "n_samples = 5\n",
        "n_qubits = n_samples  # number of samples tested\n",
        "\n",
        "#dev_rigetti_aws = qml.device('braket.aws.qubit', device_arn=device_rigetti, shots=10000, wires=n_qubits, s3_destination_folder=s3_folder)\n",
        "#dev_rigetti_aws = qml.device(\"default.qubit\", wires=n_qubits, shots=10000)\n",
        "dev_rigetti_aws =  qml.device('qiskit.ibmq', wires=n_qubits, backend='ibmq_manila', ibmqx_token=\"6834a85b6eef4500c39371983dc17feec0ec055e763d50ad7156d5b291d05e8a56cc6c2e09e5ef2e7608c58a04a700addcd6a1fe9c9d3dbcea7783a7222fdc38\")\n",
        "\n",
        "wires = dev_rigetti_aws.wires.tolist()\n",
        "\n",
        "@qml.qnode(dev_rigetti_aws)\n",
        "def q_fc(params, inputs):\n",
        "    \"\"\"A variational quantum circuit representing the DRC.\n",
        "\n",
        "    Args:\n",
        "        params (array[float]): array of parameters\n",
        "        inputs (array[float]): array of inputs (data samples)\n",
        "\n",
        "    Returns:\n",
        "        array[float]: 1-d output vector in the form of <Z> for every qubit\n",
        "    \"\"\"\n",
        "    \n",
        "    #print(len(inputs))\n",
        "    #print(len(params[0]))\n",
        "    #print(int(len(inputs[0])/3))\n",
        "    # data sample iteration\n",
        "    for data in range(len(inputs)):\n",
        "        # layer iteration\n",
        "        for l in range(len(params[0])):\n",
        "            # qubit iteration\n",
        "            for q in range(1):\n",
        "                # gate iteration\n",
        "                for g in range(int(len(inputs[0])/3)):\n",
        "                  qml.Rot(*(params[0][l][3*g:3*(g+1)] * inputs[data][3*g:3*(g+1)] + params[1][l][3*g:3*(g+1)]), wires=data)\n",
        "\n",
        "    return [qml.expval(qml.PauliZ(wires=i)) for i in range(n_qubits)]"
      ]
    },
    {
      "cell_type": "code",
      "execution_count": null,
      "metadata": {
        "id": "U6PaiZlH-zER"
      },
      "outputs": [],
      "source": [
        "# execute the circuit on Rigetti's QPU\n",
        "# we saved the result for every execution just in case\n",
        "# Note: please change the directory to save the result accordingly (or just delete/comment it) if you want to run the code\n",
        "\n",
        "for i in range(100):\n",
        "    result_0 = q_fc(best_params, X_test[Y_test==0][i*10:(i+1)*10])\n",
        "    np.savetxt('Testing_label0_sample' + str(i) + '.txt', result_0)\n",
        "    result_1 = q_fc(best_params, X_test[Y_test==1][i*10:(i+1)*10])\n",
        "    np.savetxt('Testing_label1_sample' + str(i) + '.txt', result_1)"
      ]
    },
    {
      "cell_type": "code",
      "execution_count": null,
      "metadata": {
        "id": "pz45mds8-1kz"
      },
      "outputs": [],
      "source": [
        "z_label_0 = np.zeros((1000,))\n",
        "z_label_1 = np.zeros((1000,))\n",
        "\n",
        "# load the results from saved files\n",
        "for i in range(100):\n",
        "    temp = np.loadtxt('Testing_label0_sample' + str(i) + '.txt')\n",
        "    z_label_0[i*10:(i+1)*10] = temp\n",
        "    \n",
        "    temp = np.loadtxt('Testing_label1_sample' + str(i) + '.txt')\n",
        "    z_label_1[i*10:(i+1)*10] = temp\n",
        "\n",
        "# calculate the α1⟨O1⟩\n",
        "fidel_1_label_0 = np.clip(alpha[1]*(1 - z_label_0)/2, 0, 1)\n",
        "fidel_1_label_1 = np.clip(alpha[1]*(1 - z_label_1)/2, 0, 1)\n",
        "\n",
        "# concatenate all into one array of prediction\n",
        "Y_pred_1 = np.concatenate((fidel_1_label_0, fidel_1_label_1), axis=0)\n",
        "Y_label = np.concatenate((np.zeros((1000,), dtype=int), np.ones((1000,), dtype=int)), axis=0)"
      ]
    },
    {
      "cell_type": "code",
      "execution_count": null,
      "metadata": {
        "id": "1s3q4f8E-3dp"
      },
      "outputs": [],
      "source": [
        "roc_auc_score(Y_label, Y_pred_1)"
      ]
    },
    {
      "cell_type": "code",
      "execution_count": null,
      "metadata": {
        "id": "rBev_ubD-5I9"
      },
      "outputs": [],
      "source": [
        ""
      ]
    }
  ],
  "metadata": {
    "colab": {
      "name": "Qiskit_actual_hardware.ipynb",
      "provenance": []
    },
    "kernelspec": {
      "display_name": "Python 3",
      "name": "python3"
    },
    "language_info": {
      "name": "python"
    }
  },
  "nbformat": 4,
  "nbformat_minor": 0
}