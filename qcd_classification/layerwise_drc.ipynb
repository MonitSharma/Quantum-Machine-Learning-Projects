{
 "cells": [
  {
   "cell_type": "code",
   "execution_count": 1,
   "metadata": {},
   "outputs": [],
   "source": [
    "import numpy as np\n",
    "import pandas as pd\n",
    "from sklearn.model_selection import train_test_split"
   ]
  },
  {
   "cell_type": "code",
   "execution_count": 2,
   "metadata": {},
   "outputs": [],
   "source": [
    "dataset = pd.read_csv('data/training_observables.csv', header=None)"
   ]
  },
  {
   "cell_type": "code",
   "execution_count": 3,
   "metadata": {},
   "outputs": [],
   "source": [
    "# Every Feature name\n",
    "header_list = {\n",
    "    0 : 'number',\n",
    "    1 : 'eos_type',\n",
    "    2 :\t'mean_pt',\n",
    "    3 :\t'dndy',\n",
    "    4 :\t'v2',\n",
    "    5 :\t'v3',\n",
    "    6 :\t'v4',\n",
    "    7 : 'v5',\n",
    "    8 :\t'psi2',\n",
    "    9 :\t'psi3',\n",
    "    10 : 'psi4',\n",
    "    11 :\t'psi5',\n",
    "    12 :'ptspec_bin0',\n",
    "    13 : 'ptspec_bin',\n",
    "    14 : 'ptspec_bin2',\n",
    "    15 :\t'ptspec_bin3',\n",
    "    16 : 'ptspec_bin4',\n",
    "    17 :\t'ptspec_bin5',\n",
    "    18 :\t'ptspec_bin6',\n",
    "    19 :\t'ptspec_bin7',\n",
    "    20 :\t'ptspec_bin8',\n",
    "    21 : \t'ptspec_bin9',\n",
    "    22 :\t'ptspec_bin10',\n",
    "    23 :\t'ptspec_bin11',\n",
    "    24 :\t'ptspec_bin12',\n",
    "    25 :\t'ptspec_bin13',\n",
    "    26 :\t'ptspec_bin14',\n",
    "    27 :\t'v2_ptbin0',\n",
    "    28 :\t'v2_ptbin1',\n",
    "    29 :\t'v2_ptbin2',\n",
    "    30 :\t'v2_ptbin3',\n",
    "    31 :\t'v2_ptbin4',\n",
    "    32 :\t'v2_ptbin5',\n",
    "    33 :\t'v2_ptbin6',\n",
    "    34 :\t'v2_ptbin7',\n",
    "    35 :\t'v2_ptbin8',\n",
    "    36 :\t'v2_ptbin9',\n",
    "    37 :\t'v2_ptbin10',\n",
    "    38 :\t'v2_ptbin11',\n",
    "    39 :\t'v2_ptbin12',\n",
    "    40 :\t'v2_ptbin13',\n",
    "    41 :\t'v2_ptbin14',\n",
    "    42 :\t'v3_ptbin0',\n",
    "    43 :\t'v3_ptbin1',\n",
    "    44 :\t'v3_ptbin2',\n",
    "    45 :\t'v3_ptbin3',\n",
    "    46 :\t'v3_ptbin4',\n",
    "    47 :\t'v3_ptbin5',\n",
    "    48 :\t'v3_ptbin6',\n",
    "    49 :\t'v3_ptbin7',\n",
    "    50 : 'v3_ptbin8',\n",
    "    51 : 'v3_ptbin9',\n",
    "    52 : 'v3_ptbin10',\n",
    "    53 : 'v3_ptbin11',\n",
    "    54 : 'v3_ptbin12',\n",
    "    55 : 'v3_ptbin13',\n",
    "    56 : 'v3_ptbin14',\n",
    "    57 : 'v4_ptbin0',\n",
    "    58 : 'v4_ptbin1',\n",
    "    59 : 'v4_ptbin2',\n",
    "    60 : 'v4_ptbin3',\n",
    "    61 : 'v4_ptbin4',\n",
    "    62 : 'v4_ptbin5',\n",
    "    63 : 'v4_ptbin6',\n",
    "    64 : 'v4_ptbin7',\n",
    "    65 : 'v4_ptbin8',\n",
    "    66 : 'v4_ptbin9',\n",
    "    67 : 'v4_ptbin10',\n",
    "    68 : 'v4_ptbin11',\n",
    "    69 : 'v4_ptbin12',\n",
    "    70 : 'v4_ptbin13',\n",
    "    71 : 'v4_ptbin14',\n",
    "    72 : 'v5_ptbin0',\n",
    "    73 : 'v5_ptbin1',\n",
    "    74 : 'v5_ptbin2',\n",
    "    75 : 'v5_ptbin3',\n",
    "    76 : 'v5_ptbin4',\n",
    "    77 : 'v5_ptbin5',\n",
    "    78 : 'v5_ptbin6',\n",
    "    79 : 'v5_ptbin7',\n",
    "    80 : 'v5_ptbin8',\n",
    "    81 : 'v5_ptbin9',\n",
    "    82 : 'v5_ptbin10',\n",
    "    83 : 'v5_ptbin11',\n",
    "    84 : 'v5_ptbin12',\n",
    "    85 : 'v5_ptbin13',\n",
    "    86 : 'v5_ptbin14'\n",
    "}\n"
   ]
  },
  {
   "cell_type": "code",
   "execution_count": 4,
   "metadata": {},
   "outputs": [
    {
     "data": {
      "text/html": [
       "<div>\n",
       "<style scoped>\n",
       "    .dataframe tbody tr th:only-of-type {\n",
       "        vertical-align: middle;\n",
       "    }\n",
       "\n",
       "    .dataframe tbody tr th {\n",
       "        vertical-align: top;\n",
       "    }\n",
       "\n",
       "    .dataframe thead th {\n",
       "        text-align: right;\n",
       "    }\n",
       "</style>\n",
       "<table border=\"1\" class=\"dataframe\">\n",
       "  <thead>\n",
       "    <tr style=\"text-align: right;\">\n",
       "      <th></th>\n",
       "      <th>number</th>\n",
       "      <th>eos_type</th>\n",
       "      <th>mean_pt</th>\n",
       "      <th>dndy</th>\n",
       "      <th>v2</th>\n",
       "      <th>v3</th>\n",
       "      <th>v4</th>\n",
       "      <th>v5</th>\n",
       "      <th>psi2</th>\n",
       "      <th>psi3</th>\n",
       "      <th>...</th>\n",
       "      <th>v5_ptbin5</th>\n",
       "      <th>v5_ptbin6</th>\n",
       "      <th>v5_ptbin7</th>\n",
       "      <th>v5_ptbin8</th>\n",
       "      <th>v5_ptbin9</th>\n",
       "      <th>v5_ptbin10</th>\n",
       "      <th>v5_ptbin11</th>\n",
       "      <th>v5_ptbin12</th>\n",
       "      <th>v5_ptbin13</th>\n",
       "      <th>v5_ptbin14</th>\n",
       "    </tr>\n",
       "  </thead>\n",
       "  <tbody>\n",
       "    <tr>\n",
       "      <th>0</th>\n",
       "      <td>0</td>\n",
       "      <td>0.0</td>\n",
       "      <td>0.493280</td>\n",
       "      <td>119.3278</td>\n",
       "      <td>0.026617</td>\n",
       "      <td>0.019539</td>\n",
       "      <td>0.001285</td>\n",
       "      <td>0.004125</td>\n",
       "      <td>-0.114632</td>\n",
       "      <td>-0.192545</td>\n",
       "      <td>...</td>\n",
       "      <td>0.001793</td>\n",
       "      <td>0.003997</td>\n",
       "      <td>0.008152</td>\n",
       "      <td>0.015164</td>\n",
       "      <td>0.025790</td>\n",
       "      <td>0.040464</td>\n",
       "      <td>0.059261</td>\n",
       "      <td>0.081969</td>\n",
       "      <td>0.108310</td>\n",
       "      <td>0.138916</td>\n",
       "    </tr>\n",
       "    <tr>\n",
       "      <th>1</th>\n",
       "      <td>1</td>\n",
       "      <td>0.0</td>\n",
       "      <td>0.499796</td>\n",
       "      <td>140.6615</td>\n",
       "      <td>0.027218</td>\n",
       "      <td>0.015303</td>\n",
       "      <td>0.017385</td>\n",
       "      <td>0.001732</td>\n",
       "      <td>1.389377</td>\n",
       "      <td>0.282950</td>\n",
       "      <td>...</td>\n",
       "      <td>0.000811</td>\n",
       "      <td>0.001750</td>\n",
       "      <td>0.003415</td>\n",
       "      <td>0.006048</td>\n",
       "      <td>0.009945</td>\n",
       "      <td>0.015720</td>\n",
       "      <td>0.024593</td>\n",
       "      <td>0.038424</td>\n",
       "      <td>0.059534</td>\n",
       "      <td>0.090801</td>\n",
       "    </tr>\n",
       "    <tr>\n",
       "      <th>2</th>\n",
       "      <td>2</td>\n",
       "      <td>0.0</td>\n",
       "      <td>0.503392</td>\n",
       "      <td>152.7687</td>\n",
       "      <td>0.011552</td>\n",
       "      <td>0.016412</td>\n",
       "      <td>0.004306</td>\n",
       "      <td>0.007357</td>\n",
       "      <td>-0.133998</td>\n",
       "      <td>0.223442</td>\n",
       "      <td>...</td>\n",
       "      <td>0.003183</td>\n",
       "      <td>0.006916</td>\n",
       "      <td>0.013742</td>\n",
       "      <td>0.025196</td>\n",
       "      <td>0.042973</td>\n",
       "      <td>0.068877</td>\n",
       "      <td>0.104854</td>\n",
       "      <td>0.153033</td>\n",
       "      <td>0.215902</td>\n",
       "      <td>0.298440</td>\n",
       "    </tr>\n",
       "    <tr>\n",
       "      <th>3</th>\n",
       "      <td>3</td>\n",
       "      <td>0.0</td>\n",
       "      <td>0.488244</td>\n",
       "      <td>123.8411</td>\n",
       "      <td>0.016648</td>\n",
       "      <td>0.007232</td>\n",
       "      <td>0.004221</td>\n",
       "      <td>0.001482</td>\n",
       "      <td>1.066655</td>\n",
       "      <td>0.425053</td>\n",
       "      <td>...</td>\n",
       "      <td>0.000763</td>\n",
       "      <td>0.001691</td>\n",
       "      <td>0.003347</td>\n",
       "      <td>0.005789</td>\n",
       "      <td>0.008923</td>\n",
       "      <td>0.013181</td>\n",
       "      <td>0.020897</td>\n",
       "      <td>0.036646</td>\n",
       "      <td>0.066004</td>\n",
       "      <td>0.117576</td>\n",
       "    </tr>\n",
       "    <tr>\n",
       "      <th>4</th>\n",
       "      <td>4</td>\n",
       "      <td>0.0</td>\n",
       "      <td>0.496821</td>\n",
       "      <td>130.7838</td>\n",
       "      <td>0.029870</td>\n",
       "      <td>0.034460</td>\n",
       "      <td>0.016352</td>\n",
       "      <td>0.001592</td>\n",
       "      <td>0.849569</td>\n",
       "      <td>-0.411059</td>\n",
       "      <td>...</td>\n",
       "      <td>0.000919</td>\n",
       "      <td>0.002004</td>\n",
       "      <td>0.003871</td>\n",
       "      <td>0.006358</td>\n",
       "      <td>0.008433</td>\n",
       "      <td>0.007623</td>\n",
       "      <td>0.003397</td>\n",
       "      <td>0.026416</td>\n",
       "      <td>0.078568</td>\n",
       "      <td>0.177591</td>\n",
       "    </tr>\n",
       "  </tbody>\n",
       "</table>\n",
       "<p>5 rows × 87 columns</p>\n",
       "</div>"
      ],
      "text/plain": [
       "   number  eos_type   mean_pt      dndy        v2        v3        v4  \\\n",
       "0       0       0.0  0.493280  119.3278  0.026617  0.019539  0.001285   \n",
       "1       1       0.0  0.499796  140.6615  0.027218  0.015303  0.017385   \n",
       "2       2       0.0  0.503392  152.7687  0.011552  0.016412  0.004306   \n",
       "3       3       0.0  0.488244  123.8411  0.016648  0.007232  0.004221   \n",
       "4       4       0.0  0.496821  130.7838  0.029870  0.034460  0.016352   \n",
       "\n",
       "         v5      psi2      psi3  ...  v5_ptbin5  v5_ptbin6  v5_ptbin7  \\\n",
       "0  0.004125 -0.114632 -0.192545  ...   0.001793   0.003997   0.008152   \n",
       "1  0.001732  1.389377  0.282950  ...   0.000811   0.001750   0.003415   \n",
       "2  0.007357 -0.133998  0.223442  ...   0.003183   0.006916   0.013742   \n",
       "3  0.001482  1.066655  0.425053  ...   0.000763   0.001691   0.003347   \n",
       "4  0.001592  0.849569 -0.411059  ...   0.000919   0.002004   0.003871   \n",
       "\n",
       "   v5_ptbin8  v5_ptbin9  v5_ptbin10  v5_ptbin11  v5_ptbin12  v5_ptbin13  \\\n",
       "0   0.015164   0.025790    0.040464    0.059261    0.081969    0.108310   \n",
       "1   0.006048   0.009945    0.015720    0.024593    0.038424    0.059534   \n",
       "2   0.025196   0.042973    0.068877    0.104854    0.153033    0.215902   \n",
       "3   0.005789   0.008923    0.013181    0.020897    0.036646    0.066004   \n",
       "4   0.006358   0.008433    0.007623    0.003397    0.026416    0.078568   \n",
       "\n",
       "   v5_ptbin14  \n",
       "0    0.138916  \n",
       "1    0.090801  \n",
       "2    0.298440  \n",
       "3    0.117576  \n",
       "4    0.177591  \n",
       "\n",
       "[5 rows x 87 columns]"
      ]
     },
     "execution_count": 4,
     "metadata": {},
     "output_type": "execute_result"
    }
   ],
   "source": [
    "dataset = dataset.rename(columns=header_list)\n",
    "dataset.head(5)"
   ]
  },
  {
   "cell_type": "code",
   "execution_count": 5,
   "metadata": {},
   "outputs": [
    {
     "data": {
      "text/html": [
       "<div>\n",
       "<style scoped>\n",
       "    .dataframe tbody tr th:only-of-type {\n",
       "        vertical-align: middle;\n",
       "    }\n",
       "\n",
       "    .dataframe tbody tr th {\n",
       "        vertical-align: top;\n",
       "    }\n",
       "\n",
       "    .dataframe thead th {\n",
       "        text-align: right;\n",
       "    }\n",
       "</style>\n",
       "<table border=\"1\" class=\"dataframe\">\n",
       "  <thead>\n",
       "    <tr style=\"text-align: right;\">\n",
       "      <th></th>\n",
       "      <th>eos_type</th>\n",
       "      <th>mean_pt</th>\n",
       "      <th>dndy</th>\n",
       "      <th>v2</th>\n",
       "      <th>v3</th>\n",
       "      <th>v4</th>\n",
       "      <th>v5</th>\n",
       "      <th>psi2</th>\n",
       "      <th>psi3</th>\n",
       "      <th>psi4</th>\n",
       "      <th>...</th>\n",
       "      <th>v5_ptbin5</th>\n",
       "      <th>v5_ptbin6</th>\n",
       "      <th>v5_ptbin7</th>\n",
       "      <th>v5_ptbin8</th>\n",
       "      <th>v5_ptbin9</th>\n",
       "      <th>v5_ptbin10</th>\n",
       "      <th>v5_ptbin11</th>\n",
       "      <th>v5_ptbin12</th>\n",
       "      <th>v5_ptbin13</th>\n",
       "      <th>v5_ptbin14</th>\n",
       "    </tr>\n",
       "  </thead>\n",
       "  <tbody>\n",
       "    <tr>\n",
       "      <th>0</th>\n",
       "      <td>0.0</td>\n",
       "      <td>0.493280</td>\n",
       "      <td>119.32780</td>\n",
       "      <td>0.026617</td>\n",
       "      <td>0.019539</td>\n",
       "      <td>0.001285</td>\n",
       "      <td>0.004125</td>\n",
       "      <td>-0.114632</td>\n",
       "      <td>-0.192545</td>\n",
       "      <td>0.604534</td>\n",
       "      <td>...</td>\n",
       "      <td>0.001793</td>\n",
       "      <td>0.003997</td>\n",
       "      <td>0.008152</td>\n",
       "      <td>0.015164</td>\n",
       "      <td>0.025790</td>\n",
       "      <td>0.040464</td>\n",
       "      <td>0.059261</td>\n",
       "      <td>0.081969</td>\n",
       "      <td>0.108310</td>\n",
       "      <td>0.138916</td>\n",
       "    </tr>\n",
       "    <tr>\n",
       "      <th>1</th>\n",
       "      <td>0.0</td>\n",
       "      <td>0.499796</td>\n",
       "      <td>140.66150</td>\n",
       "      <td>0.027218</td>\n",
       "      <td>0.015303</td>\n",
       "      <td>0.017385</td>\n",
       "      <td>0.001732</td>\n",
       "      <td>1.389377</td>\n",
       "      <td>0.282950</td>\n",
       "      <td>0.155580</td>\n",
       "      <td>...</td>\n",
       "      <td>0.000811</td>\n",
       "      <td>0.001750</td>\n",
       "      <td>0.003415</td>\n",
       "      <td>0.006048</td>\n",
       "      <td>0.009945</td>\n",
       "      <td>0.015720</td>\n",
       "      <td>0.024593</td>\n",
       "      <td>0.038424</td>\n",
       "      <td>0.059534</td>\n",
       "      <td>0.090801</td>\n",
       "    </tr>\n",
       "    <tr>\n",
       "      <th>2</th>\n",
       "      <td>0.0</td>\n",
       "      <td>0.503392</td>\n",
       "      <td>152.76870</td>\n",
       "      <td>0.011552</td>\n",
       "      <td>0.016412</td>\n",
       "      <td>0.004306</td>\n",
       "      <td>0.007357</td>\n",
       "      <td>-0.133998</td>\n",
       "      <td>0.223442</td>\n",
       "      <td>-0.593591</td>\n",
       "      <td>...</td>\n",
       "      <td>0.003183</td>\n",
       "      <td>0.006916</td>\n",
       "      <td>0.013742</td>\n",
       "      <td>0.025196</td>\n",
       "      <td>0.042973</td>\n",
       "      <td>0.068877</td>\n",
       "      <td>0.104854</td>\n",
       "      <td>0.153033</td>\n",
       "      <td>0.215902</td>\n",
       "      <td>0.298440</td>\n",
       "    </tr>\n",
       "    <tr>\n",
       "      <th>3</th>\n",
       "      <td>0.0</td>\n",
       "      <td>0.488244</td>\n",
       "      <td>123.84110</td>\n",
       "      <td>0.016648</td>\n",
       "      <td>0.007232</td>\n",
       "      <td>0.004221</td>\n",
       "      <td>0.001482</td>\n",
       "      <td>1.066655</td>\n",
       "      <td>0.425053</td>\n",
       "      <td>-0.017385</td>\n",
       "      <td>...</td>\n",
       "      <td>0.000763</td>\n",
       "      <td>0.001691</td>\n",
       "      <td>0.003347</td>\n",
       "      <td>0.005789</td>\n",
       "      <td>0.008923</td>\n",
       "      <td>0.013181</td>\n",
       "      <td>0.020897</td>\n",
       "      <td>0.036646</td>\n",
       "      <td>0.066004</td>\n",
       "      <td>0.117576</td>\n",
       "    </tr>\n",
       "    <tr>\n",
       "      <th>4</th>\n",
       "      <td>0.0</td>\n",
       "      <td>0.496821</td>\n",
       "      <td>130.78380</td>\n",
       "      <td>0.029870</td>\n",
       "      <td>0.034460</td>\n",
       "      <td>0.016352</td>\n",
       "      <td>0.001592</td>\n",
       "      <td>0.849569</td>\n",
       "      <td>-0.411059</td>\n",
       "      <td>0.742171</td>\n",
       "      <td>...</td>\n",
       "      <td>0.000919</td>\n",
       "      <td>0.002004</td>\n",
       "      <td>0.003871</td>\n",
       "      <td>0.006358</td>\n",
       "      <td>0.008433</td>\n",
       "      <td>0.007623</td>\n",
       "      <td>0.003397</td>\n",
       "      <td>0.026416</td>\n",
       "      <td>0.078568</td>\n",
       "      <td>0.177591</td>\n",
       "    </tr>\n",
       "    <tr>\n",
       "      <th>...</th>\n",
       "      <td>...</td>\n",
       "      <td>...</td>\n",
       "      <td>...</td>\n",
       "      <td>...</td>\n",
       "      <td>...</td>\n",
       "      <td>...</td>\n",
       "      <td>...</td>\n",
       "      <td>...</td>\n",
       "      <td>...</td>\n",
       "      <td>...</td>\n",
       "      <td>...</td>\n",
       "      <td>...</td>\n",
       "      <td>...</td>\n",
       "      <td>...</td>\n",
       "      <td>...</td>\n",
       "      <td>...</td>\n",
       "      <td>...</td>\n",
       "      <td>...</td>\n",
       "      <td>...</td>\n",
       "      <td>...</td>\n",
       "      <td>...</td>\n",
       "    </tr>\n",
       "    <tr>\n",
       "      <th>22570</th>\n",
       "      <td>1.0</td>\n",
       "      <td>0.495708</td>\n",
       "      <td>43.28272</td>\n",
       "      <td>0.031320</td>\n",
       "      <td>0.010866</td>\n",
       "      <td>0.007185</td>\n",
       "      <td>0.000848</td>\n",
       "      <td>-0.414526</td>\n",
       "      <td>-0.690625</td>\n",
       "      <td>0.623115</td>\n",
       "      <td>...</td>\n",
       "      <td>0.000392</td>\n",
       "      <td>0.000845</td>\n",
       "      <td>0.001672</td>\n",
       "      <td>0.003088</td>\n",
       "      <td>0.005341</td>\n",
       "      <td>0.008532</td>\n",
       "      <td>0.012373</td>\n",
       "      <td>0.016067</td>\n",
       "      <td>0.018169</td>\n",
       "      <td>0.015897</td>\n",
       "    </tr>\n",
       "    <tr>\n",
       "      <th>22571</th>\n",
       "      <td>1.0</td>\n",
       "      <td>0.536097</td>\n",
       "      <td>35.77644</td>\n",
       "      <td>0.089789</td>\n",
       "      <td>0.015850</td>\n",
       "      <td>0.006881</td>\n",
       "      <td>0.005601</td>\n",
       "      <td>-0.028845</td>\n",
       "      <td>0.934089</td>\n",
       "      <td>0.126117</td>\n",
       "      <td>...</td>\n",
       "      <td>0.001865</td>\n",
       "      <td>0.003920</td>\n",
       "      <td>0.007764</td>\n",
       "      <td>0.015250</td>\n",
       "      <td>0.029065</td>\n",
       "      <td>0.051837</td>\n",
       "      <td>0.085413</td>\n",
       "      <td>0.130882</td>\n",
       "      <td>0.189289</td>\n",
       "      <td>0.264222</td>\n",
       "    </tr>\n",
       "    <tr>\n",
       "      <th>22572</th>\n",
       "      <td>1.0</td>\n",
       "      <td>0.516989</td>\n",
       "      <td>40.66633</td>\n",
       "      <td>0.056547</td>\n",
       "      <td>0.031709</td>\n",
       "      <td>0.012869</td>\n",
       "      <td>0.007707</td>\n",
       "      <td>0.561080</td>\n",
       "      <td>0.025548</td>\n",
       "      <td>0.430158</td>\n",
       "      <td>...</td>\n",
       "      <td>0.003741</td>\n",
       "      <td>0.007919</td>\n",
       "      <td>0.014907</td>\n",
       "      <td>0.025046</td>\n",
       "      <td>0.037916</td>\n",
       "      <td>0.052361</td>\n",
       "      <td>0.066622</td>\n",
       "      <td>0.078427</td>\n",
       "      <td>0.085027</td>\n",
       "      <td>0.082829</td>\n",
       "    </tr>\n",
       "    <tr>\n",
       "      <th>22573</th>\n",
       "      <td>1.0</td>\n",
       "      <td>0.514398</td>\n",
       "      <td>48.36263</td>\n",
       "      <td>0.059926</td>\n",
       "      <td>0.013307</td>\n",
       "      <td>0.006346</td>\n",
       "      <td>0.004572</td>\n",
       "      <td>0.499208</td>\n",
       "      <td>-1.016149</td>\n",
       "      <td>0.443735</td>\n",
       "      <td>...</td>\n",
       "      <td>0.002169</td>\n",
       "      <td>0.004623</td>\n",
       "      <td>0.008857</td>\n",
       "      <td>0.015174</td>\n",
       "      <td>0.023454</td>\n",
       "      <td>0.033371</td>\n",
       "      <td>0.044792</td>\n",
       "      <td>0.058167</td>\n",
       "      <td>0.075026</td>\n",
       "      <td>0.098845</td>\n",
       "    </tr>\n",
       "    <tr>\n",
       "      <th>22574</th>\n",
       "      <td>1.0</td>\n",
       "      <td>0.523754</td>\n",
       "      <td>58.44409</td>\n",
       "      <td>0.051211</td>\n",
       "      <td>0.039774</td>\n",
       "      <td>0.009579</td>\n",
       "      <td>0.002640</td>\n",
       "      <td>-0.014750</td>\n",
       "      <td>0.692909</td>\n",
       "      <td>0.630324</td>\n",
       "      <td>...</td>\n",
       "      <td>0.000898</td>\n",
       "      <td>0.001922</td>\n",
       "      <td>0.003896</td>\n",
       "      <td>0.007616</td>\n",
       "      <td>0.014228</td>\n",
       "      <td>0.025525</td>\n",
       "      <td>0.044245</td>\n",
       "      <td>0.073989</td>\n",
       "      <td>0.119131</td>\n",
       "      <td>0.186828</td>\n",
       "    </tr>\n",
       "  </tbody>\n",
       "</table>\n",
       "<p>22575 rows × 86 columns</p>\n",
       "</div>"
      ],
      "text/plain": [
       "       eos_type   mean_pt       dndy        v2        v3        v4        v5  \\\n",
       "0           0.0  0.493280  119.32780  0.026617  0.019539  0.001285  0.004125   \n",
       "1           0.0  0.499796  140.66150  0.027218  0.015303  0.017385  0.001732   \n",
       "2           0.0  0.503392  152.76870  0.011552  0.016412  0.004306  0.007357   \n",
       "3           0.0  0.488244  123.84110  0.016648  0.007232  0.004221  0.001482   \n",
       "4           0.0  0.496821  130.78380  0.029870  0.034460  0.016352  0.001592   \n",
       "...         ...       ...        ...       ...       ...       ...       ...   \n",
       "22570       1.0  0.495708   43.28272  0.031320  0.010866  0.007185  0.000848   \n",
       "22571       1.0  0.536097   35.77644  0.089789  0.015850  0.006881  0.005601   \n",
       "22572       1.0  0.516989   40.66633  0.056547  0.031709  0.012869  0.007707   \n",
       "22573       1.0  0.514398   48.36263  0.059926  0.013307  0.006346  0.004572   \n",
       "22574       1.0  0.523754   58.44409  0.051211  0.039774  0.009579  0.002640   \n",
       "\n",
       "           psi2      psi3      psi4  ...  v5_ptbin5  v5_ptbin6  v5_ptbin7  \\\n",
       "0     -0.114632 -0.192545  0.604534  ...   0.001793   0.003997   0.008152   \n",
       "1      1.389377  0.282950  0.155580  ...   0.000811   0.001750   0.003415   \n",
       "2     -0.133998  0.223442 -0.593591  ...   0.003183   0.006916   0.013742   \n",
       "3      1.066655  0.425053 -0.017385  ...   0.000763   0.001691   0.003347   \n",
       "4      0.849569 -0.411059  0.742171  ...   0.000919   0.002004   0.003871   \n",
       "...         ...       ...       ...  ...        ...        ...        ...   \n",
       "22570 -0.414526 -0.690625  0.623115  ...   0.000392   0.000845   0.001672   \n",
       "22571 -0.028845  0.934089  0.126117  ...   0.001865   0.003920   0.007764   \n",
       "22572  0.561080  0.025548  0.430158  ...   0.003741   0.007919   0.014907   \n",
       "22573  0.499208 -1.016149  0.443735  ...   0.002169   0.004623   0.008857   \n",
       "22574 -0.014750  0.692909  0.630324  ...   0.000898   0.001922   0.003896   \n",
       "\n",
       "       v5_ptbin8  v5_ptbin9  v5_ptbin10  v5_ptbin11  v5_ptbin12  v5_ptbin13  \\\n",
       "0       0.015164   0.025790    0.040464    0.059261    0.081969    0.108310   \n",
       "1       0.006048   0.009945    0.015720    0.024593    0.038424    0.059534   \n",
       "2       0.025196   0.042973    0.068877    0.104854    0.153033    0.215902   \n",
       "3       0.005789   0.008923    0.013181    0.020897    0.036646    0.066004   \n",
       "4       0.006358   0.008433    0.007623    0.003397    0.026416    0.078568   \n",
       "...          ...        ...         ...         ...         ...         ...   \n",
       "22570   0.003088   0.005341    0.008532    0.012373    0.016067    0.018169   \n",
       "22571   0.015250   0.029065    0.051837    0.085413    0.130882    0.189289   \n",
       "22572   0.025046   0.037916    0.052361    0.066622    0.078427    0.085027   \n",
       "22573   0.015174   0.023454    0.033371    0.044792    0.058167    0.075026   \n",
       "22574   0.007616   0.014228    0.025525    0.044245    0.073989    0.119131   \n",
       "\n",
       "       v5_ptbin14  \n",
       "0        0.138916  \n",
       "1        0.090801  \n",
       "2        0.298440  \n",
       "3        0.117576  \n",
       "4        0.177591  \n",
       "...           ...  \n",
       "22570    0.015897  \n",
       "22571    0.264222  \n",
       "22572    0.082829  \n",
       "22573    0.098845  \n",
       "22574    0.186828  \n",
       "\n",
       "[22575 rows x 86 columns]"
      ]
     },
     "execution_count": 5,
     "metadata": {},
     "output_type": "execute_result"
    }
   ],
   "source": [
    "dataset = dataset.drop(['number'], axis = 1)\n",
    "dataset"
   ]
  },
  {
   "cell_type": "code",
   "execution_count": 6,
   "metadata": {},
   "outputs": [],
   "source": [
    "important_features = [\n",
    "    \n",
    "    'eos_type',\n",
    "\t'v2',\n",
    "\t'v3',\n",
    "\t'v4',\n",
    " 'v5',\n",
    " 'psi2',\n",
    " 'psi3'\n",
    "\t   \n",
    "]\n",
    "\n",
    "# Best features according to reference\n",
    "\n",
    "\n",
    "# The index of the best features in the header_list\n",
    "important_features_id = np.array([\n",
    "                         0,\n",
    "                         2,\n",
    "                         3,\n",
    "                         4,\n",
    "                         5,\n",
    "                         6,\n",
    "                         7\n",
    "                         \n",
    "])"
   ]
  },
  {
   "cell_type": "code",
   "execution_count": 8,
   "metadata": {},
   "outputs": [
    {
     "name": "stdout",
     "output_type": "stream",
     "text": [
      "(5000, 85) (5000,)\n",
      "(5000, 85) (5000,)\n"
     ]
    }
   ],
   "source": [
    "num_sample = 5000\n",
    "\n",
    "X_train = np.loadtxt('./QCD Dataset/X_train_' + str(num_sample) + '.txt')\n",
    "Y_train = np.loadtxt('./QCD Dataset/Y_train_' + str(num_sample) + '.txt')\n",
    "\n",
    "X_test = np.loadtxt('./QCD Dataset/X_test_' + str(num_sample) + '.txt')\n",
    "Y_test = np.loadtxt('./QCD Dataset/Y_test_' + str(num_sample) + '.txt')\n",
    "\n",
    "print(X_train.shape, Y_train.shape)\n",
    "print(X_test.shape, Y_test.shape)"
   ]
  },
  {
   "cell_type": "markdown",
   "metadata": {},
   "source": [
    "## Dataset Preprocessing\n"
   ]
  },
  {
   "cell_type": "code",
   "execution_count": 9,
   "metadata": {},
   "outputs": [],
   "source": [
    "def normalize(X, use_params=False, params=None):\n",
    "    \"\"\"Normalize the given dataset X\n",
    "    Args:\n",
    "        X: ndarray, dataset\n",
    "    \n",
    "    Returns:\n",
    "        (Xbar, mean, std): tuple of ndarray, Xbar is the normalized dataset\n",
    "        with mean 0 and standard deviation 1; mean and std are the \n",
    "        mean and standard deviation respectively.\n",
    "    \n",
    "    Note:\n",
    "        You will encounter dimensions where the standard deviation is\n",
    "        zero, for those when you do normalization the normalized data\n",
    "        will be NaN. Handle this by setting using `std = 1` for those \n",
    "        dimensions when doing normalization.\n",
    "    \"\"\"\n",
    "    if use_params:\n",
    "        mu = params[0]\n",
    "        std_filled = [1]\n",
    "    else:\n",
    "        mu = np.mean(X, axis=0)\n",
    "        std = np.std(X, axis=0)\n",
    "        #std_filled = std.copy()\n",
    "    #std_filled[std==0] = 1.\n",
    "    Xbar = (X - mu)/(std + 1e-8)\n",
    "    return Xbar, mu, std"
   ]
  },
  {
   "cell_type": "code",
   "execution_count": 10,
   "metadata": {},
   "outputs": [
    {
     "data": {
      "text/plain": [
       "((5000, 85), (5000,))"
      ]
     },
     "execution_count": 10,
     "metadata": {},
     "output_type": "execute_result"
    }
   ],
   "source": [
    "X_train, mu_train, std_train = normalize(X_train)\n",
    "X_train.shape, Y_train.shape"
   ]
  },
  {
   "cell_type": "code",
   "execution_count": 11,
   "metadata": {},
   "outputs": [
    {
     "data": {
      "text/plain": [
       "((5000, 85), (5000,))"
      ]
     },
     "execution_count": 11,
     "metadata": {},
     "output_type": "execute_result"
    }
   ],
   "source": [
    "X_test = (X_test - mu_train)/(std_train + 1e-8)\n",
    "X_test.shape, Y_test.shape"
   ]
  },
  {
   "cell_type": "markdown",
   "metadata": {},
   "source": [
    "## PCA"
   ]
  },
  {
   "cell_type": "code",
   "execution_count": 12,
   "metadata": {},
   "outputs": [],
   "source": [
    "from sklearn.decomposition import PCA\n",
    "from matplotlib import pyplot as plt"
   ]
  },
  {
   "cell_type": "code",
   "execution_count": 13,
   "metadata": {},
   "outputs": [],
   "source": [
    "num_component = 9\n",
    "pca = PCA(n_components=num_component, svd_solver='full')"
   ]
  },
  {
   "cell_type": "code",
   "execution_count": 14,
   "metadata": {},
   "outputs": [
    {
     "data": {
      "text/plain": [
       "PCA(n_components=9, svd_solver='full')"
      ]
     },
     "execution_count": 14,
     "metadata": {},
     "output_type": "execute_result"
    }
   ],
   "source": [
    "pca.fit(X_train)"
   ]
  },
  {
   "cell_type": "code",
   "execution_count": 15,
   "metadata": {},
   "outputs": [
    {
     "data": {
      "text/plain": [
       "array([0.24426647, 0.45933906, 0.60488075, 0.69478901, 0.75753035,\n",
       "       0.79833493, 0.83255729, 0.85223318, 0.8684757 ])"
      ]
     },
     "execution_count": 15,
     "metadata": {},
     "output_type": "execute_result"
    }
   ],
   "source": [
    "np.cumsum(pca.explained_variance_ratio_)"
   ]
  },
  {
   "cell_type": "code",
   "execution_count": 16,
   "metadata": {},
   "outputs": [],
   "source": [
    "X_train = pca.transform(X_train)\n",
    "X_test = pca.transform(X_test)"
   ]
  },
  {
   "cell_type": "code",
   "execution_count": 17,
   "metadata": {},
   "outputs": [
    {
     "name": "stdout",
     "output_type": "stream",
     "text": [
      "(5000, 9) (5000,)\n",
      "(5000, 9) (5000,)\n"
     ]
    }
   ],
   "source": [
    "print(X_train.shape, Y_train.shape)\n",
    "print(X_test.shape, Y_test.shape)"
   ]
  },
  {
   "cell_type": "markdown",
   "metadata": {},
   "source": [
    "## Norm"
   ]
  },
  {
   "cell_type": "code",
   "execution_count": 18,
   "metadata": {},
   "outputs": [],
   "source": [
    "X_train = (X_train.T / np.sqrt(np.sum(X_train ** 2, -1))).T\n",
    "X_test = (X_test.T / np.sqrt(np.sum(X_test ** 2, -1))).T"
   ]
  },
  {
   "cell_type": "code",
   "execution_count": 19,
   "metadata": {},
   "outputs": [
    {
     "data": {
      "text/plain": [
       "<matplotlib.collections.PathCollection at 0x29e5cedfcd0>"
      ]
     },
     "execution_count": 19,
     "metadata": {},
     "output_type": "execute_result"
    },
    {
     "data": {
      "image/png": "[encoded data removed]",
      "text/plain": [
       "<Figure size 432x288 with 1 Axes>"
      ]
     },
     "metadata": {
      "needs_background": "light"
     },
     "output_type": "display_data"
    }
   ],
   "source": [
    "plt.scatter(X_train[:100, 0], X_train[:100, 1])\n",
    "plt.scatter(X_train[100:200, 0], X_train[100:200, 1])\n",
    "plt.scatter(X_train[200:300, 0], X_train[200:300, 1])"
   ]
  },
  {
   "cell_type": "markdown",
   "metadata": {},
   "source": [
    "## Standard Scaling"
   ]
  },
  {
   "cell_type": "code",
   "execution_count": 20,
   "metadata": {},
   "outputs": [],
   "source": [
    "X_train = 2*((X_train - np.min(X_train, axis=0))/(np.max(X_train, axis=0) - np.min(X_train, axis=0))) - 1\n",
    "X_test = 2*((X_test - np.min(X_test, axis=0))/(np.max(X_test, axis=0) - np.min(X_test, axis=0))) - 1\n"
   ]
  },
  {
   "cell_type": "markdown",
   "metadata": {},
   "source": [
    "## Best Features"
   ]
  },
  {
   "cell_type": "code",
   "execution_count": 21,
   "metadata": {},
   "outputs": [
    {
     "data": {
      "text/plain": [
       "((5000, 6), (5000, 6))"
      ]
     },
     "execution_count": 21,
     "metadata": {},
     "output_type": "execute_result"
    }
   ],
   "source": [
    "X_train = X_train[:, important_features_id[:6]]\n",
    "X_test = X_test[:, important_features_id[:6]]\n",
    "\n",
    "X_train.shape, X_test.shape"
   ]
  },
  {
   "cell_type": "markdown",
   "metadata": {},
   "source": [
    "## Quantum"
   ]
  },
  {
   "cell_type": "code",
   "execution_count": 25,
   "metadata": {},
   "outputs": [],
   "source": [
    "import pennylane as qml\n",
    "from pennylane import numpy as np\n",
    "from pennylane.optimize import AdamOptimizer, GradientDescentOptimizer\n",
    "import pennylane.tape\n",
    "#qml.tape()\n",
    "\n",
    "\n",
    "# Set a random seed\n",
    "np.random.seed(42)"
   ]
  },
  {
   "cell_type": "code",
   "execution_count": 26,
   "metadata": {},
   "outputs": [],
   "source": [
    "# Define output labels as quantum state vectors\n",
    "\n",
    "# def density_matrix(state):\n",
    "#     \"\"\"Calculates the density matrix representation of a state.\n",
    "\n",
    "#     Args:\n",
    "#         state (array[complex]): array representing a quantum state vector\n",
    "\n",
    "#     Returns:\n",
    "#         dm: (array[complex]): array representing the density matrix\n",
    "#     \"\"\"\n",
    "#     return state * np.conj(state).T\n",
    "\n",
    "\n",
    "label_0 = [[1], [0]]\n",
    "label_1 = [[0], [1]]\n",
    "\n",
    "\n",
    "def density_matrix(state):\n",
    "    \"\"\"Calculates the density matrix representation of a state.\n",
    "\n",
    "    Args:\n",
    "        state (array[complex]): array representing a quantum state vector\n",
    "\n",
    "    Returns:\n",
    "        dm: (array[complex]): array representing the density matrix\n",
    "    \"\"\"\n",
    "    return np.outer(state,  np.conj(state))\n",
    "\n",
    "state_labels = [label_0, label_1]\n",
    "#state_labels = np.loadtxt('./tetra_states.txt', dtype=np.complex_)\n"
   ]
  },
  {
   "cell_type": "code",
   "execution_count": 27,
   "metadata": {},
   "outputs": [
    {
     "data": {
      "text/plain": [
       "2"
      ]
     },
     "execution_count": 27,
     "metadata": {},
     "output_type": "execute_result"
    }
   ],
   "source": [
    "dm_labels = [density_matrix(state_labels[i]) for i in range(2)]\n",
    "len(dm_labels)"
   ]
  },
  {
   "cell_type": "code",
   "execution_count": 28,
   "metadata": {},
   "outputs": [
    {
     "data": {
      "text/plain": [
       "[tensor([[1, 0],\n",
       "         [0, 0]], requires_grad=True),\n",
       " tensor([[0, 0],\n",
       "         [0, 1]], requires_grad=True)]"
      ]
     },
     "execution_count": 28,
     "metadata": {},
     "output_type": "execute_result"
    }
   ],
   "source": [
    "dm_labels"
   ]
  },
  {
   "cell_type": "code",
   "execution_count": 29,
   "metadata": {},
   "outputs": [],
   "source": [
    "binary_class = np.array([[1, 0], [0, 1]])\n",
    "class_labels = binary_class"
   ]
  },
  {
   "cell_type": "code",
   "execution_count": 34,
   "metadata": {},
   "outputs": [],
   "source": [
    "num_fc_layer = 6\n",
    "#params_fix = np.random.uniform(size=(2, num_fc_layer, 6))"
   ]
  },
  {
   "cell_type": "code",
   "execution_count": 35,
   "metadata": {},
   "outputs": [],
   "source": [
    "n_samples = 10\n",
    "n_qubits = n_samples  # number of class\n",
    "#dev_fc = qml.device(\"default.qubit\", wires=n_qubits)\n",
    "\n",
    "#layer_id = 4\n",
    "\n",
    "#dev_braket_local = qml.device(\"braket.local.qubit\", wires=1)\n",
    "#dev_braket_aws = qml.device('braket.aws.qubit', device_arn=device_arn, wires=1, s3_destination_folder=s3_folder)\n",
    "\n",
    "dev_qiskit = qml.device('qiskit.aer', wires=n_qubits, backend='unitary_simulator')\n",
    "\n",
    "\n",
    "@qml.qnode(dev_qiskit)\n",
    "def q_fc(params, inputs):\n",
    "    \"\"\"A variational quantum circuit representing the DRC.\n",
    "\n",
    "    Args:\n",
    "        params (array[float]): array of parameters\n",
    "        inputs = [x, y]\n",
    "        x (array[float]): 1-d input vector\n",
    "        y (array[float]): single output state density matrix\n",
    "\n",
    "    Returns:\n",
    "        float: fidelity between output state and input\n",
    "    \"\"\"\n",
    "    \n",
    "    #print(len(inputs))\n",
    "    #print(len(params[0]))\n",
    "    #print(int(len(inputs[0])/3))\n",
    "    # data sample iteration\n",
    "    for data in range(len(inputs)):\n",
    "        # layer iteration\n",
    "        for l in range(len(params[0])):\n",
    "            # qubit iteration\n",
    "            for q in range(1):\n",
    "                # gate iteration\n",
    "                for g in range(int(len(inputs[0])/3)):\n",
    "                  qml.Rot(*(params[0][l][3*g:3*(g+1)] * inputs[data][3*g:3*(g+1)] + params[1][l][3*g:3*(g+1)]), wires=data)\n",
    "\n",
    "    #return [qml.expval(qml.Hermitian(dm_labels[i%2], wires=[i])) for i in range(n_qubits)]\n",
    "    return [qml.expval(qml.PauliZ(wires=i)) for i in range(n_qubits)]\n",
    "    #return [qml.expval(qml.Identity(wires=i)) for i in range(n_qubits)]\n",
    "    #return qml.probs(wires=[i for i in range(n_qubits)])"
   ]
  },
  {
   "cell_type": "code",
   "execution_count": 32,
   "metadata": {},
   "outputs": [],
   "source": [
    "best_params = np.array([[[-8.1651270e-01, -5.7219396e+00, -5.0026126e+00, -8.7349653e+00,\n",
    "          8.6107445e+00, -7.4346608e-01],\n",
    "        [-4.3116546e-01,  1.9235638e-01,  1.1460174e+01,  1.6732130e+01,\n",
    "         -7.6773262e+00,  2.3683351e-01],\n",
    "        [-1.2424114e+00, -1.6424029e+00,  4.3668928e+00,  1.2578176e+01,\n",
    "          1.3795346e+01,  4.1559759e-01],\n",
    "        [ 1.5771559e+00, -2.9976025e-01,  4.8244944e+00,  1.2191445e+01,\n",
    "         -1.2368810e+01,  2.3165625e-01],\n",
    "        [-4.7297475e-01,  1.0174850e-01,  1.1752117e+00,  4.5879779e+00,\n",
    "         -4.9621615e+00, -4.0477452e-01],\n",
    "        [ 7.0455074e-01,  4.7375542e-01,  4.6240917e-01,  6.2393603e+00,\n",
    "         -8.0264759e+00, -8.2564849e-01 ]],\n",
    " \n",
    "        [[ -1.6269213e-01,  4.1776904e-01, -1.1912645e-01, -1.4228214e+00,\n",
    "          1.2047335e-01,  2.8740829e-01],\n",
    "        [ 6.2306011e-01,  1.2985326e+00,  1.0940484e-03,  7.7353078e-01,\n",
    "          7.6046184e-02,  3.1073821e-01],\n",
    "        [-7.7920145e-01, -8.7578541e-01, -5.1616389e-01, -9.5997304e-01,\n",
    "         -1.0806603e+00, -8.3950925e-01],\n",
    "        [ 8.6785805e-01,  1.0877717e+00,  9.0811890e-01,  5.0817257e-01,\n",
    "          1.1726918e+00,  4.3069747e-01],\n",
    "        [ 7.0361930e-01,  3.2143527e-01, -7.2015360e-02, -3.6329076e-01,\n",
    "          2.7806100e-02,  1.8179013e+00],\n",
    "        [ 1.1288029e+00,  2.6218903e-01,  6.7197585e-01,  5.4800685e-02,\n",
    "         -3.0021885e-01, -5.6975257e-01 ]]])\n",
    "\n",
    "alpha = np.array([0.9943338, 1.0097762])"
   ]
  },
  {
   "cell_type": "code",
   "execution_count": 33,
   "metadata": {},
   "outputs": [
    {
     "name": "stdout",
     "output_type": "stream",
     "text": [
      "(2, 6, 6) (2,)\n"
     ]
    }
   ],
   "source": [
    "print(best_params.shape, alpha.shape)"
   ]
  },
  {
   "cell_type": "code",
   "execution_count": 36,
   "metadata": {},
   "outputs": [],
   "source": [
    "z_label_0 = np.zeros((1000,))\n",
    "z_label_1 = np.zeros((1000,))\n",
    "\n",
    "for i in range(100):\n",
    "    temp = np.loadtxt('./QPU Probs/Testing_label0_sample' + str(i) + '.txt')\n",
    "    z_label_0[i*10:(i+1)*10] = temp\n",
    "    \n",
    "    temp = np.loadtxt('./QPU Probs/Testing_label1_sample' + str(i) + '.txt')\n",
    "    z_label_1[i*10:(i+1)*10] = temp"
   ]
  },
  {
   "cell_type": "code",
   "execution_count": 37,
   "metadata": {},
   "outputs": [],
   "source": [
    "fidel_1_label_0 = np.clip(alpha[1]*(1 - z_label_0)/2, 0, 1)\n",
    "fidel_1_label_1 = np.clip(alpha[1]*(1 - z_label_1)/2, 0, 1)\n",
    "\n",
    "Y_pred_1 = np.concatenate((fidel_1_label_0, fidel_1_label_1), axis=0)\n",
    "Y_label = np.concatenate((np.zeros((1000,), dtype=int), np.ones((1000,), dtype=int)), axis=0)\n"
   ]
  },
  {
   "cell_type": "code",
   "execution_count": 38,
   "metadata": {},
   "outputs": [],
   "source": [
    "from sklearn.metrics import roc_auc_score"
   ]
  },
  {
   "cell_type": "code",
   "execution_count": 39,
   "metadata": {},
   "outputs": [
    {
     "data": {
      "text/plain": [
       "0.783029"
      ]
     },
     "execution_count": 39,
     "metadata": {},
     "output_type": "execute_result"
    }
   ],
   "source": [
    "roc_auc_score(Y_label, Y_pred_1)"
   ]
  },
  {
   "cell_type": "code",
   "execution_count": 40,
   "metadata": {},
   "outputs": [
    {
     "data": {
      "text/plain": [
       "tensor(0.688, requires_grad=True)"
      ]
     },
     "execution_count": 40,
     "metadata": {},
     "output_type": "execute_result"
    }
   ],
   "source": [
    "((fidel_1_label_0 <= 0.5).sum() + (fidel_1_label_1 > 0.5).sum())/len(Y_pred_1)\n"
   ]
  },
  {
   "cell_type": "code",
   "execution_count": 43,
   "metadata": {},
   "outputs": [],
   "source": [
    "import tensorflow as tf"
   ]
  },
  {
   "cell_type": "code",
   "execution_count": 44,
   "metadata": {},
   "outputs": [],
   "source": [
    "from keras import backend as K\n",
    "\n",
    "\n",
    "# Alpha Custom Layer\n",
    "class class_weights(tf.keras.layers.Layer):\n",
    "    def __init__(self):\n",
    "        super(class_weights, self).__init__()\n",
    "        w_init = tf.random_normal_initializer()\n",
    "        self.w = tf.Variable(\n",
    "            initial_value=w_init(shape=(1, 2), dtype=\"float32\"),\n",
    "            trainable=True,\n",
    "        )\n",
    "\n",
    "    def call(self, inputs):\n",
    "        return (inputs * self.w)"
   ]
  },
  {
   "cell_type": "code",
   "execution_count": 47,
   "metadata": {},
   "outputs": [],
   "source": [
    "n_component = 6\n",
    "\n",
    "X = tf.keras.Input(shape=(n_component,), name='Input_Layer')\n",
    "\n",
    "\n",
    "# Quantum FC Layer, trainable params = 18*L*n_class + 2, output size = 2\n",
    "num_fc_layer = 6\n",
    "q_fc_layer_0 = qml.qnn.KerasLayer(q_fc, {\"params\": (2, num_fc_layer, n_component)}, output_dim=2)(X)\n",
    "\n",
    "# Alpha Layer\n",
    "alpha_layer_0 = class_weights()(q_fc_layer_0)\n",
    "\n",
    "model = tf.keras.Model(inputs=X, outputs=alpha_layer_0)"
   ]
  },
  {
   "cell_type": "code",
   "execution_count": null,
   "metadata": {},
   "outputs": [],
   "source": []
  }
 ],
 "metadata": {
  "interpreter": {
   "hash": "ebdd18c65820265b9c4aaa0c89a36968d5130e0f982b4a809ab1e7e6cd7c7d19"
  },
  "kernelspec": {
   "display_name": "Python 3.8.9 ('qc': venv)",
   "language": "python",
   "name": "python3"
  },
  "language_info": {
   "codemirror_mode": {
    "name": "ipython",
    "version": 3
   },
   "file_extension": ".py",
   "mimetype": "text/x-python",
   "name": "python",
   "nbconvert_exporter": "python",
   "pygments_lexer": "ipython3",
   "version": "3.8.9"
  },
  "orig_nbformat": 4
 },
 "nbformat": 4,
 "nbformat_minor": 2
}
